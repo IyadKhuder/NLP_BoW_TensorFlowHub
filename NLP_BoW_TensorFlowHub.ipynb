{
  "nbformat": 4,
  "nbformat_minor": 0,
  "metadata": {
    "colab": {
      "provenance": [],
      "include_colab_link": true
    },
    "kernelspec": {
      "name": "python3",
      "display_name": "Python 3"
    },
    "language_info": {
      "name": "python"
    },
    "accelerator": "GPU",
    "gpuClass": "standard"
  },
  "cells": [
    {
      "cell_type": "markdown",
      "metadata": {
        "id": "view-in-github",
        "colab_type": "text"
      },
      "source": [
        "<a href=\"https://colab.research.google.com/github/IyadKhuder/NLP_BoW_TensorFlowHub/blob/main/NLP_BoW_TensorFlowHub.ipynb\" target=\"_parent\"><img src=\"https://colab.research.google.com/assets/colab-badge.svg\" alt=\"Open In Colab\"/></a>"
      ]
    },
    {
      "cell_type": "markdown",
      "source": [
        "# TensorFlow Hub - Text classification\n",
        "\n",
        "- Based on: https://www.tensorflow.org/hub/tutorials/tf2_text_classification\n",
        "\n",
        "https://playground.tensorflow.org/\n"
      ],
      "metadata": {
        "id": "a6TFymxyzLTY"
      }
    },
    {
      "cell_type": "markdown",
      "source": [
        "# Importing the libraries"
      ],
      "metadata": {
        "id": "SJ9kiCsQzPkx"
      }
    },
    {
      "cell_type": "code",
      "source": [
        "import numpy as np\n",
        "import tensorflow as tf\n",
        "import tensorflow_hub as hub\n",
        "import tensorflow_datasets as tfds\n",
        "print('TensorFlow version: ', tf.__version__)\n",
        "print('TensorFlow Hub version: ', hub.__version__)"
      ],
      "metadata": {
        "colab": {
          "base_uri": "https://localhost:8080/"
        },
        "id": "RKQPYhtRnYoG",
        "outputId": "9dcfc30c-24e3-4372-9483-e6b1c5c9ec27"
      },
      "execution_count": 1,
      "outputs": [
        {
          "output_type": "stream",
          "name": "stdout",
          "text": [
            "TensorFlow version:  2.9.2\n",
            "TensorFlow Hub version:  0.12.0\n"
          ]
        }
      ]
    },
    {
      "cell_type": "markdown",
      "metadata": {
        "id": "_6rDd_I3V-nd"
      },
      "source": [
        "### a) *Importing Google-Drive relevant libraries*"
      ]
    },
    {
      "cell_type": "code",
      "source": [
        "# libraries for the files in google drive\n",
        "from pydrive.auth import GoogleAuth\n",
        "from google.colab import drive\n",
        "from pydrive.drive import GoogleDrive\n",
        "from google.colab import auth\n",
        "from oauth2client.client import GoogleCredentials"
      ],
      "metadata": {
        "id": "4VY1J-m4fSeB"
      },
      "execution_count": 2,
      "outputs": []
    },
    {
      "cell_type": "markdown",
      "metadata": {
        "id": "PXW_OZhkWv74"
      },
      "source": [
        "### b) *Connecting to Google-Drive and importing the dataset file*"
      ]
    },
    {
      "cell_type": "code",
      "source": [
        "auth.authenticate_user()\n",
        "gauth = GoogleAuth()\n",
        "gauth.credentials = GoogleCredentials.get_application_default()\n",
        "drive = GoogleDrive(gauth)\n",
        "\n",
        "download = drive.CreateFile({'id': '1CIAW4Ji9q1L8UUt2rnFkJt6qx3QlknyZ'})\n",
        "\n",
        "# Download the file to a local disc\n",
        "download.GetContentFile('Restaurant_Reviews.tsv')\n"
      ],
      "metadata": {
        "id": "vvz_iIB0ULje"
      },
      "execution_count": 3,
      "outputs": []
    },
    {
      "cell_type": "markdown",
      "metadata": {
        "id": "JjQJmIeVXI6X"
      },
      "source": [
        "### c) *Storing the dataset in a dataframe and verifying that we access it*"
      ]
    },
    {
      "cell_type": "code",
      "source": [
        "import pandas as pd"
      ],
      "metadata": {
        "id": "kRlAJdMQ3TRL"
      },
      "execution_count": 4,
      "outputs": []
    },
    {
      "cell_type": "code",
      "source": [
        "df  = pd.read_csv(\"Restaurant_Reviews.tsv\", delimiter = '\\t', quoting = 3)\n",
        "print(df)"
      ],
      "metadata": {
        "colab": {
          "base_uri": "https://localhost:8080/"
        },
        "id": "mEECiqIKXDeQ",
        "outputId": "7c9bca7e-1ec9-4fc4-c9c6-2a840b567f3e"
      },
      "execution_count": 6,
      "outputs": [
        {
          "output_type": "stream",
          "name": "stdout",
          "text": [
            "                                                Review  Liked\n",
            "0                             Wow... Loved this place.      1\n",
            "1                                   Crust is not good.      0\n",
            "2            Not tasty and the texture was just nasty.      0\n",
            "3    Stopped by during the late May bank holiday of...      1\n",
            "4    The selection on the menu was great and so wer...      1\n",
            "..                                                 ...    ...\n",
            "995  I think food should have flavor and texture an...      0\n",
            "996                           Appetite instantly gone.      0\n",
            "997  Overall I was not impressed and would not go b...      0\n",
            "998  The whole experience was underwhelming, and I ...      0\n",
            "999  Then, as if I hadn't wasted enough of my life ...      0\n",
            "\n",
            "[1000 rows x 2 columns]\n"
          ]
        }
      ]
    },
    {
      "cell_type": "markdown",
      "metadata": {
        "id": "3zlC9L2YXnKQ"
      },
      "source": [
        "### d) *Extracting the input and output fields*"
      ]
    },
    {
      "cell_type": "code",
      "source": [
        "X= df.iloc[:,0:-1].values\n",
        "y= df.iloc[:,-1].values"
      ],
      "metadata": {
        "id": "1pZJeAbGcCTi"
      },
      "execution_count": 7,
      "outputs": []
    },
    {
      "cell_type": "code",
      "source": [
        "X.shape"
      ],
      "metadata": {
        "colab": {
          "base_uri": "https://localhost:8080/"
        },
        "id": "VEC7cDYU6ezD",
        "outputId": "13487d32-a949-4da6-faca-3d01119138e7"
      },
      "execution_count": 8,
      "outputs": [
        {
          "output_type": "execute_result",
          "data": {
            "text/plain": [
              "(1000, 1)"
            ]
          },
          "metadata": {},
          "execution_count": 8
        }
      ]
    },
    {
      "cell_type": "code",
      "source": [
        "# Set the train:test percetage\n",
        "# Percentage = 80% => size(X_train) = 800\n",
        "n = 800"
      ],
      "metadata": {
        "id": "liSoIaCuFFeR"
      },
      "execution_count": 43,
      "outputs": []
    },
    {
      "cell_type": "code",
      "source": [
        "X_train = X[:n,:]\n",
        "y_train = y[:n]\n",
        "y_test = y[n:]\n",
        "X_test = X[n:,:]"
      ],
      "metadata": {
        "id": "Bju8NVWg6RVv"
      },
      "execution_count": 44,
      "outputs": []
    },
    {
      "cell_type": "code",
      "source": [
        "X_train.shape"
      ],
      "metadata": {
        "colab": {
          "base_uri": "https://localhost:8080/"
        },
        "outputId": "1dd150fd-b969-49ae-d7f0-f4ac8b0617f3",
        "id": "Vj3Ta2VC6pgS"
      },
      "execution_count": 45,
      "outputs": [
        {
          "output_type": "execute_result",
          "data": {
            "text/plain": [
              "(800, 1)"
            ]
          },
          "metadata": {},
          "execution_count": 45
        }
      ]
    },
    {
      "cell_type": "code",
      "source": [
        "y_train.shape"
      ],
      "metadata": {
        "colab": {
          "base_uri": "https://localhost:8080/"
        },
        "outputId": "16cf7ae1-13b4-42fe-90b3-1dfbce279835",
        "id": "JpVuV-mM6yuP"
      },
      "execution_count": 46,
      "outputs": [
        {
          "output_type": "execute_result",
          "data": {
            "text/plain": [
              "(800,)"
            ]
          },
          "metadata": {},
          "execution_count": 46
        }
      ]
    },
    {
      "cell_type": "code",
      "source": [
        "y_train = y_train.reshape(len(y_train),1 )\n",
        "y_train.shape"
      ],
      "metadata": {
        "colab": {
          "base_uri": "https://localhost:8080/"
        },
        "id": "nyzX0VqqH4Xh",
        "outputId": "1d2c35f9-9a93-42ce-cbc2-b6d27c2625ec"
      },
      "execution_count": 47,
      "outputs": [
        {
          "output_type": "execute_result",
          "data": {
            "text/plain": [
              "(800, 1)"
            ]
          },
          "metadata": {},
          "execution_count": 47
        }
      ]
    },
    {
      "cell_type": "code",
      "source": [
        "y_test.shape"
      ],
      "metadata": {
        "colab": {
          "base_uri": "https://localhost:8080/"
        },
        "id": "XpeMNi8D7lXQ",
        "outputId": "59fd1d9d-e10a-4d16-ea39-1fa3cebb3798"
      },
      "execution_count": 48,
      "outputs": [
        {
          "output_type": "execute_result",
          "data": {
            "text/plain": [
              "(200,)"
            ]
          },
          "metadata": {},
          "execution_count": 48
        }
      ]
    },
    {
      "cell_type": "code",
      "source": [
        "y_test = y_test.reshape(len(y_test),1 )\n",
        "y_test.shape"
      ],
      "metadata": {
        "colab": {
          "base_uri": "https://localhost:8080/"
        },
        "id": "Vl5O-DgkIH93",
        "outputId": "06b4ca72-a083-497e-ec5f-25688689e871"
      },
      "execution_count": 49,
      "outputs": [
        {
          "output_type": "execute_result",
          "data": {
            "text/plain": [
              "(200, 1)"
            ]
          },
          "metadata": {},
          "execution_count": 49
        }
      ]
    },
    {
      "cell_type": "code",
      "source": [
        "X_test.shape"
      ],
      "metadata": {
        "colab": {
          "base_uri": "https://localhost:8080/"
        },
        "id": "gyuoDkVH71Va",
        "outputId": "b8fed12d-611a-4fb3-d2dd-285c914134fd"
      },
      "execution_count": 50,
      "outputs": [
        {
          "output_type": "execute_result",
          "data": {
            "text/plain": [
              "(200, 1)"
            ]
          },
          "metadata": {},
          "execution_count": 50
        }
      ]
    },
    {
      "cell_type": "markdown",
      "source": [
        "# Building and training the neural network"
      ],
      "metadata": {
        "id": "gt-hGDwf-J3h"
      }
    },
    {
      "cell_type": "code",
      "source": [
        "model_path = 'https://tfhub.dev/google/nnlm-en-dim50/2'"
      ],
      "metadata": {
        "id": "r-w-4cyysZNB"
      },
      "execution_count": 71,
      "outputs": []
    },
    {
      "cell_type": "code",
      "source": [
        "embedding_layer = hub.KerasLayer(model_path, input_shape = [], dtype = tf.string, trainable = True)"
      ],
      "metadata": {
        "id": "gvToNDBss94m"
      },
      "execution_count": 72,
      "outputs": []
    },
    {
      "cell_type": "code",
      "source": [
        "# input = tf.keras.layers.Input(shape=(), name=\"Input\", dtype=tf.string)"
      ],
      "metadata": {
        "id": "pCDgPhu5JThT"
      },
      "execution_count": 20,
      "outputs": []
    },
    {
      "cell_type": "code",
      "source": [
        "embedding_layer(X_train[1,])"
      ],
      "metadata": {
        "colab": {
          "base_uri": "https://localhost:8080/"
        },
        "id": "rNikzPEVtSFH",
        "outputId": "a63b6cde-484f-40b2-ee9a-92ac754f3f7d"
      },
      "execution_count": 73,
      "outputs": [
        {
          "output_type": "execute_result",
          "data": {
            "text/plain": [
              "<tf.Tensor: shape=(1, 50), dtype=float32, numpy=\n",
              "array([[ 0.14294183,  0.01486275,  0.01177659, -0.07886052,  0.11969235,\n",
              "        -0.17994426,  0.24438062,  0.00459703, -0.12754944,  0.06723507,\n",
              "        -0.09139995, -0.18797436, -0.03747191, -0.0242891 , -0.07398539,\n",
              "         0.3253423 , -0.13087204, -0.11668985, -0.01679479, -0.45974058,\n",
              "         0.16189638, -0.17808953, -0.00983213,  0.10641059, -0.20094255,\n",
              "         0.01631247,  0.03566115, -0.03228062, -0.13913496, -0.01942133,\n",
              "        -0.07761522,  0.30196995, -0.11239656, -0.09970577,  0.00156803,\n",
              "         0.04806294,  0.04358976,  0.06202801,  0.15414013,  0.12325947,\n",
              "         0.25816405,  0.07419002, -0.17233726, -0.0213831 , -0.08867244,\n",
              "         0.16050503, -0.02066359, -0.12074912, -0.03338655,  0.0470865 ]],\n",
              "      dtype=float32)>"
            ]
          },
          "metadata": {},
          "execution_count": 73
        }
      ]
    },
    {
      "cell_type": "code",
      "source": [
        "model = tf.keras.Sequential()\n",
        "model.add(embedding_layer)\n",
        "# 50 -> 16 -> 1\n",
        "model.add(tf.keras.layers.Dense(units = 10, activation = 'relu'))\n",
        "model.add(tf.keras.layers.Dense(units = 6, activation = 'relu'))\n",
        "model.add(tf.keras.layers.Dense(units = 1))\n",
        "model.summary()"
      ],
      "metadata": {
        "colab": {
          "base_uri": "https://localhost:8080/"
        },
        "id": "Cs3h2nA6uG4A",
        "outputId": "860bbb3b-f449-4ff3-b51c-7c46f65162d6"
      },
      "execution_count": 114,
      "outputs": [
        {
          "output_type": "stream",
          "name": "stdout",
          "text": [
            "Model: \"sequential_5\"\n",
            "_________________________________________________________________\n",
            " Layer (type)                Output Shape              Param #   \n",
            "=================================================================\n",
            " keras_layer_4 (KerasLayer)  (None, 50)                48190600  \n",
            "                                                                 \n",
            " dense_16 (Dense)            (None, 10)                510       \n",
            "                                                                 \n",
            " dense_17 (Dense)            (None, 6)                 66        \n",
            "                                                                 \n",
            " dense_18 (Dense)            (None, 1)                 7         \n",
            "                                                                 \n",
            "=================================================================\n",
            "Total params: 48,191,183\n",
            "Trainable params: 48,191,183\n",
            "Non-trainable params: 0\n",
            "_________________________________________________________________\n"
          ]
        }
      ]
    },
    {
      "cell_type": "code",
      "source": [
        "model.compile(optimizer = 'adam', loss = tf.losses.BinaryCrossentropy(from_logits = True), metrics = ['accuracy'])"
      ],
      "metadata": {
        "id": "jxalygykvABk"
      },
      "execution_count": 115,
      "outputs": []
    },
    {
      "cell_type": "code",
      "source": [
        "model.fit(X_train, y_train, epochs = 100, batch_size = 512, verbose = 1)"
      ],
      "metadata": {
        "colab": {
          "base_uri": "https://localhost:8080/"
        },
        "id": "KEppk6BRvNqV",
        "outputId": "d4d9c015-c408-48e7-d533-d7e6dcd528fa"
      },
      "execution_count": 116,
      "outputs": [
        {
          "output_type": "stream",
          "name": "stdout",
          "text": [
            "Epoch 1/100\n",
            "2/2 [==============================] - 1s 81ms/step - loss: 0.6656 - accuracy: 0.4350\n",
            "Epoch 2/100\n",
            "2/2 [==============================] - 0s 35ms/step - loss: 0.6528 - accuracy: 0.4350\n",
            "Epoch 3/100\n",
            "2/2 [==============================] - 0s 32ms/step - loss: 0.6407 - accuracy: 0.4350\n",
            "Epoch 4/100\n",
            "2/2 [==============================] - 0s 33ms/step - loss: 0.6285 - accuracy: 0.4350\n",
            "Epoch 5/100\n",
            "2/2 [==============================] - 0s 32ms/step - loss: 0.6158 - accuracy: 0.4350\n",
            "Epoch 6/100\n",
            "2/2 [==============================] - 0s 33ms/step - loss: 0.6029 - accuracy: 0.4350\n",
            "Epoch 7/100\n",
            "2/2 [==============================] - 0s 31ms/step - loss: 0.5901 - accuracy: 0.4350\n",
            "Epoch 8/100\n",
            "2/2 [==============================] - 0s 34ms/step - loss: 0.5773 - accuracy: 0.4350\n",
            "Epoch 9/100\n",
            "2/2 [==============================] - 0s 33ms/step - loss: 0.5646 - accuracy: 0.4350\n",
            "Epoch 10/100\n",
            "2/2 [==============================] - 0s 36ms/step - loss: 0.5518 - accuracy: 0.4350\n",
            "Epoch 11/100\n",
            "2/2 [==============================] - 0s 32ms/step - loss: 0.5390 - accuracy: 0.4350\n",
            "Epoch 12/100\n",
            "2/2 [==============================] - 0s 32ms/step - loss: 0.5264 - accuracy: 0.4350\n",
            "Epoch 13/100\n",
            "2/2 [==============================] - 0s 33ms/step - loss: 0.5138 - accuracy: 0.4350\n",
            "Epoch 14/100\n",
            "2/2 [==============================] - 0s 32ms/step - loss: 0.5011 - accuracy: 0.4350\n",
            "Epoch 15/100\n",
            "2/2 [==============================] - 0s 35ms/step - loss: 0.4886 - accuracy: 0.4350\n",
            "Epoch 16/100\n",
            "2/2 [==============================] - 0s 33ms/step - loss: 0.4761 - accuracy: 0.4387\n",
            "Epoch 17/100\n",
            "2/2 [==============================] - 0s 35ms/step - loss: 0.4636 - accuracy: 0.4437\n",
            "Epoch 18/100\n",
            "2/2 [==============================] - 0s 32ms/step - loss: 0.4512 - accuracy: 0.4800\n",
            "Epoch 19/100\n",
            "2/2 [==============================] - 0s 33ms/step - loss: 0.4389 - accuracy: 0.5225\n",
            "Epoch 20/100\n",
            "2/2 [==============================] - 0s 31ms/step - loss: 0.4265 - accuracy: 0.5713\n",
            "Epoch 21/100\n",
            "2/2 [==============================] - 0s 32ms/step - loss: 0.4143 - accuracy: 0.6250\n",
            "Epoch 22/100\n",
            "2/2 [==============================] - 0s 37ms/step - loss: 0.4021 - accuracy: 0.6850\n",
            "Epoch 23/100\n",
            "2/2 [==============================] - 0s 32ms/step - loss: 0.3900 - accuracy: 0.7325\n",
            "Epoch 24/100\n",
            "2/2 [==============================] - 0s 32ms/step - loss: 0.3780 - accuracy: 0.8100\n",
            "Epoch 25/100\n",
            "2/2 [==============================] - 0s 32ms/step - loss: 0.3661 - accuracy: 0.8662\n",
            "Epoch 26/100\n",
            "2/2 [==============================] - 0s 32ms/step - loss: 0.3542 - accuracy: 0.9075\n",
            "Epoch 27/100\n",
            "2/2 [==============================] - 0s 32ms/step - loss: 0.3424 - accuracy: 0.9413\n",
            "Epoch 28/100\n",
            "2/2 [==============================] - 0s 33ms/step - loss: 0.3308 - accuracy: 0.9588\n",
            "Epoch 29/100\n",
            "2/2 [==============================] - 0s 33ms/step - loss: 0.3193 - accuracy: 0.9712\n",
            "Epoch 30/100\n",
            "2/2 [==============================] - 0s 34ms/step - loss: 0.3080 - accuracy: 0.9775\n",
            "Epoch 31/100\n",
            "2/2 [==============================] - 0s 33ms/step - loss: 0.2968 - accuracy: 0.9812\n",
            "Epoch 32/100\n",
            "2/2 [==============================] - 0s 32ms/step - loss: 0.2858 - accuracy: 0.9812\n",
            "Epoch 33/100\n",
            "2/2 [==============================] - 0s 33ms/step - loss: 0.2750 - accuracy: 0.9900\n",
            "Epoch 34/100\n",
            "2/2 [==============================] - 0s 32ms/step - loss: 0.2644 - accuracy: 0.9912\n",
            "Epoch 35/100\n",
            "2/2 [==============================] - 0s 33ms/step - loss: 0.2541 - accuracy: 0.9912\n",
            "Epoch 36/100\n",
            "2/2 [==============================] - 0s 33ms/step - loss: 0.2439 - accuracy: 0.9912\n",
            "Epoch 37/100\n",
            "2/2 [==============================] - 0s 32ms/step - loss: 0.2340 - accuracy: 0.9962\n",
            "Epoch 38/100\n",
            "2/2 [==============================] - 0s 33ms/step - loss: 0.2244 - accuracy: 0.9975\n",
            "Epoch 39/100\n",
            "2/2 [==============================] - 0s 33ms/step - loss: 0.2150 - accuracy: 0.9975\n",
            "Epoch 40/100\n",
            "2/2 [==============================] - 0s 32ms/step - loss: 0.2059 - accuracy: 0.9975\n",
            "Epoch 41/100\n",
            "2/2 [==============================] - 0s 32ms/step - loss: 0.1971 - accuracy: 0.9987\n",
            "Epoch 42/100\n",
            "2/2 [==============================] - 0s 33ms/step - loss: 0.1886 - accuracy: 0.9987\n",
            "Epoch 43/100\n",
            "2/2 [==============================] - 0s 33ms/step - loss: 0.1804 - accuracy: 0.9987\n",
            "Epoch 44/100\n",
            "2/2 [==============================] - 0s 33ms/step - loss: 0.1726 - accuracy: 1.0000\n",
            "Epoch 45/100\n",
            "2/2 [==============================] - 0s 33ms/step - loss: 0.1649 - accuracy: 1.0000\n",
            "Epoch 46/100\n",
            "2/2 [==============================] - 0s 33ms/step - loss: 0.1576 - accuracy: 1.0000\n",
            "Epoch 47/100\n",
            "2/2 [==============================] - 0s 32ms/step - loss: 0.1506 - accuracy: 1.0000\n",
            "Epoch 48/100\n",
            "2/2 [==============================] - 0s 32ms/step - loss: 0.1438 - accuracy: 1.0000\n",
            "Epoch 49/100\n",
            "2/2 [==============================] - 0s 36ms/step - loss: 0.1374 - accuracy: 1.0000\n",
            "Epoch 50/100\n",
            "2/2 [==============================] - 0s 31ms/step - loss: 0.1312 - accuracy: 1.0000\n",
            "Epoch 51/100\n",
            "2/2 [==============================] - 0s 35ms/step - loss: 0.1253 - accuracy: 1.0000\n",
            "Epoch 52/100\n",
            "2/2 [==============================] - 0s 33ms/step - loss: 0.1197 - accuracy: 1.0000\n",
            "Epoch 53/100\n",
            "2/2 [==============================] - 0s 34ms/step - loss: 0.1144 - accuracy: 1.0000\n",
            "Epoch 54/100\n",
            "2/2 [==============================] - 0s 32ms/step - loss: 0.1092 - accuracy: 1.0000\n",
            "Epoch 55/100\n",
            "2/2 [==============================] - 0s 33ms/step - loss: 0.1043 - accuracy: 1.0000\n",
            "Epoch 56/100\n",
            "2/2 [==============================] - 0s 32ms/step - loss: 0.0997 - accuracy: 1.0000\n",
            "Epoch 57/100\n",
            "2/2 [==============================] - 0s 32ms/step - loss: 0.0952 - accuracy: 1.0000\n",
            "Epoch 58/100\n",
            "2/2 [==============================] - 0s 32ms/step - loss: 0.0910 - accuracy: 1.0000\n",
            "Epoch 59/100\n",
            "2/2 [==============================] - 0s 35ms/step - loss: 0.0869 - accuracy: 1.0000\n",
            "Epoch 60/100\n",
            "2/2 [==============================] - 0s 32ms/step - loss: 0.0831 - accuracy: 1.0000\n",
            "Epoch 61/100\n",
            "2/2 [==============================] - 0s 33ms/step - loss: 0.0793 - accuracy: 1.0000\n",
            "Epoch 62/100\n",
            "2/2 [==============================] - 0s 33ms/step - loss: 0.0758 - accuracy: 1.0000\n",
            "Epoch 63/100\n",
            "2/2 [==============================] - 0s 32ms/step - loss: 0.0724 - accuracy: 1.0000\n",
            "Epoch 64/100\n",
            "2/2 [==============================] - 0s 33ms/step - loss: 0.0692 - accuracy: 1.0000\n",
            "Epoch 65/100\n",
            "2/2 [==============================] - 0s 33ms/step - loss: 0.0661 - accuracy: 1.0000\n",
            "Epoch 66/100\n",
            "2/2 [==============================] - 0s 33ms/step - loss: 0.0632 - accuracy: 1.0000\n",
            "Epoch 67/100\n",
            "2/2 [==============================] - 0s 34ms/step - loss: 0.0603 - accuracy: 1.0000\n",
            "Epoch 68/100\n",
            "2/2 [==============================] - 0s 33ms/step - loss: 0.0576 - accuracy: 1.0000\n",
            "Epoch 69/100\n",
            "2/2 [==============================] - 0s 33ms/step - loss: 0.0550 - accuracy: 1.0000\n",
            "Epoch 70/100\n",
            "2/2 [==============================] - 0s 33ms/step - loss: 0.0524 - accuracy: 1.0000\n",
            "Epoch 71/100\n",
            "2/2 [==============================] - 0s 33ms/step - loss: 0.0500 - accuracy: 1.0000\n",
            "Epoch 72/100\n",
            "2/2 [==============================] - 0s 33ms/step - loss: 0.0477 - accuracy: 1.0000\n",
            "Epoch 73/100\n",
            "2/2 [==============================] - 0s 32ms/step - loss: 0.0454 - accuracy: 1.0000\n",
            "Epoch 74/100\n",
            "2/2 [==============================] - 0s 32ms/step - loss: 0.0433 - accuracy: 1.0000\n",
            "Epoch 75/100\n",
            "2/2 [==============================] - 0s 33ms/step - loss: 0.0413 - accuracy: 1.0000\n",
            "Epoch 76/100\n",
            "2/2 [==============================] - 0s 33ms/step - loss: 0.0394 - accuracy: 1.0000\n",
            "Epoch 77/100\n",
            "2/2 [==============================] - 0s 33ms/step - loss: 0.0376 - accuracy: 1.0000\n",
            "Epoch 78/100\n",
            "2/2 [==============================] - 0s 33ms/step - loss: 0.0358 - accuracy: 1.0000\n",
            "Epoch 79/100\n",
            "2/2 [==============================] - 0s 32ms/step - loss: 0.0342 - accuracy: 1.0000\n",
            "Epoch 80/100\n",
            "2/2 [==============================] - 0s 32ms/step - loss: 0.0327 - accuracy: 1.0000\n",
            "Epoch 81/100\n",
            "2/2 [==============================] - 0s 33ms/step - loss: 0.0312 - accuracy: 1.0000\n",
            "Epoch 82/100\n",
            "2/2 [==============================] - 0s 32ms/step - loss: 0.0298 - accuracy: 1.0000\n",
            "Epoch 83/100\n",
            "2/2 [==============================] - 0s 33ms/step - loss: 0.0285 - accuracy: 1.0000\n",
            "Epoch 84/100\n",
            "2/2 [==============================] - 0s 33ms/step - loss: 0.0273 - accuracy: 1.0000\n",
            "Epoch 85/100\n",
            "2/2 [==============================] - 0s 32ms/step - loss: 0.0261 - accuracy: 1.0000\n",
            "Epoch 86/100\n",
            "2/2 [==============================] - 0s 33ms/step - loss: 0.0250 - accuracy: 1.0000\n",
            "Epoch 87/100\n",
            "2/2 [==============================] - 0s 32ms/step - loss: 0.0240 - accuracy: 1.0000\n",
            "Epoch 88/100\n",
            "2/2 [==============================] - 0s 35ms/step - loss: 0.0230 - accuracy: 1.0000\n",
            "Epoch 89/100\n",
            "2/2 [==============================] - 0s 32ms/step - loss: 0.0221 - accuracy: 1.0000\n",
            "Epoch 90/100\n",
            "2/2 [==============================] - 0s 33ms/step - loss: 0.0212 - accuracy: 1.0000\n",
            "Epoch 91/100\n",
            "2/2 [==============================] - 0s 33ms/step - loss: 0.0203 - accuracy: 1.0000\n",
            "Epoch 92/100\n",
            "2/2 [==============================] - 0s 33ms/step - loss: 0.0196 - accuracy: 1.0000\n",
            "Epoch 93/100\n",
            "2/2 [==============================] - 0s 33ms/step - loss: 0.0188 - accuracy: 1.0000\n",
            "Epoch 94/100\n",
            "2/2 [==============================] - 0s 32ms/step - loss: 0.0181 - accuracy: 1.0000\n",
            "Epoch 95/100\n",
            "2/2 [==============================] - 0s 32ms/step - loss: 0.0174 - accuracy: 1.0000\n",
            "Epoch 96/100\n",
            "2/2 [==============================] - 0s 33ms/step - loss: 0.0168 - accuracy: 1.0000\n",
            "Epoch 97/100\n",
            "2/2 [==============================] - 0s 32ms/step - loss: 0.0162 - accuracy: 1.0000\n",
            "Epoch 98/100\n",
            "2/2 [==============================] - 0s 35ms/step - loss: 0.0157 - accuracy: 1.0000\n",
            "Epoch 99/100\n",
            "2/2 [==============================] - 0s 33ms/step - loss: 0.0151 - accuracy: 1.0000\n",
            "Epoch 100/100\n",
            "2/2 [==============================] - 0s 34ms/step - loss: 0.0146 - accuracy: 1.0000\n"
          ]
        },
        {
          "output_type": "execute_result",
          "data": {
            "text/plain": [
              "<keras.callbacks.History at 0x7f3a37062790>"
            ]
          },
          "metadata": {},
          "execution_count": 116
        }
      ]
    },
    {
      "cell_type": "code",
      "source": [
        "results = model.evaluate(X_test, y_test)\n",
        "print(results)"
      ],
      "metadata": {
        "colab": {
          "base_uri": "https://localhost:8080/"
        },
        "id": "ky29s-RdvoRd",
        "outputId": "0c60beb0-3716-40da-f345-c83a81e0822f"
      },
      "execution_count": 127,
      "outputs": [
        {
          "output_type": "stream",
          "name": "stdout",
          "text": [
            "7/7 [==============================] - 0s 5ms/step - loss: 0.6057 - accuracy: 0.7400\n",
            "[0.6057019233703613, 0.7400000095367432]\n"
          ]
        }
      ]
    },
    {
      "cell_type": "markdown",
      "source": [
        "# Predictions"
      ],
      "metadata": {
        "id": "iPvBjBapEB6F"
      }
    },
    {
      "cell_type": "code",
      "source": [
        "X_test[0:10]"
      ],
      "metadata": {
        "colab": {
          "base_uri": "https://localhost:8080/"
        },
        "id": "ZKjdrwLXxvdb",
        "outputId": "8d17ea37-57f5-4334-e199-478913ea7d38"
      },
      "execution_count": 128,
      "outputs": [
        {
          "output_type": "execute_result",
          "data": {
            "text/plain": [
              "array([[\"I'm super pissd.\"],\n",
              "       ['And service was super friendly.'],\n",
              "       ['Why are these sad little vegetables so overcooked?'],\n",
              "       ['This place was such a nice surprise!'],\n",
              "       ['They were golden-crispy and delicious.'],\n",
              "       ['I had high hopes for this place since the burgers are cooked over a charcoal grill, but unfortunately the taste fell flat, way flat.'],\n",
              "       ['I could eat their bruschetta all day it is devine.'],\n",
              "       ['Not a single employee came out to see if we were OK or even needed a water refill once they finally served us our food.'],\n",
              "       ['Lastly, the mozzarella sticks, they were the best thing we ordered.'],\n",
              "       ['The first time I ever came here I had an amazing experience, I still tell people how awesome the duck was.']],\n",
              "      dtype=object)"
            ]
          },
          "metadata": {},
          "execution_count": 128
        }
      ]
    },
    {
      "cell_type": "code",
      "source": [
        "y_test[0:10]"
      ],
      "metadata": {
        "colab": {
          "base_uri": "https://localhost:8080/"
        },
        "id": "-EbaBDThx0h7",
        "outputId": "f0e07419-74fe-4490-9dae-42860b4312f8"
      },
      "execution_count": 129,
      "outputs": [
        {
          "output_type": "execute_result",
          "data": {
            "text/plain": [
              "array([[0],\n",
              "       [1],\n",
              "       [0],\n",
              "       [1],\n",
              "       [1],\n",
              "       [0],\n",
              "       [1],\n",
              "       [0],\n",
              "       [1],\n",
              "       [1]])"
            ]
          },
          "metadata": {},
          "execution_count": 129
        }
      ]
    },
    {
      "cell_type": "code",
      "source": [
        "predictions = model.predict(X_test)"
      ],
      "metadata": {
        "id": "uiQs3PM1x_pr",
        "colab": {
          "base_uri": "https://localhost:8080/"
        },
        "outputId": "c3fdc3a7-aac4-4c47-f6dc-88242973b0c0"
      },
      "execution_count": 130,
      "outputs": [
        {
          "output_type": "stream",
          "name": "stdout",
          "text": [
            "7/7 [==============================] - 0s 4ms/step\n"
          ]
        }
      ]
    },
    {
      "cell_type": "code",
      "source": [
        "predictions[:10]"
      ],
      "metadata": {
        "colab": {
          "base_uri": "https://localhost:8080/"
        },
        "id": "lBTnlBZXyIWl",
        "outputId": "26cfc90e-9ea1-4ee4-93a4-51a8978ba2ac"
      },
      "execution_count": 131,
      "outputs": [
        {
          "output_type": "execute_result",
          "data": {
            "text/plain": [
              "array([[ 2.5012014 ],\n",
              "       [-0.94403076],\n",
              "       [-2.424668  ],\n",
              "       [ 3.3297837 ],\n",
              "       [ 3.0377452 ],\n",
              "       [ 2.3909338 ],\n",
              "       [ 2.8554568 ],\n",
              "       [-4.250577  ],\n",
              "       [ 3.6557002 ],\n",
              "       [ 2.7922373 ]], dtype=float32)"
            ]
          },
          "metadata": {},
          "execution_count": 131
        }
      ]
    },
    {
      "cell_type": "code",
      "source": [
        "predictions = tf.nn.sigmoid(predictions).numpy()\n",
        "predictions[:10]"
      ],
      "metadata": {
        "colab": {
          "base_uri": "https://localhost:8080/"
        },
        "id": "Pk7OVg8NySGD",
        "outputId": "8da13395-d64e-49da-97af-e30f3c4fe755"
      },
      "execution_count": 132,
      "outputs": [
        {
          "output_type": "execute_result",
          "data": {
            "text/plain": [
              "array([[0.924226  ],\n",
              "       [0.28008685],\n",
              "       [0.08131088],\n",
              "       [0.9654366 ],\n",
              "       [0.9542505 ],\n",
              "       [0.91613334],\n",
              "       [0.94560003],\n",
              "       [0.01405563],\n",
              "       [0.9748077 ],\n",
              "       [0.9422549 ]], dtype=float32)"
            ]
          },
          "metadata": {},
          "execution_count": 132
        }
      ]
    },
    {
      "cell_type": "code",
      "source": [
        "predictions = (predictions >= 0.5)\n",
        "predictions[:10]"
      ],
      "metadata": {
        "colab": {
          "base_uri": "https://localhost:8080/"
        },
        "id": "n_XZZWItyka4",
        "outputId": "5c012efc-aec5-446a-8c92-1d9be9f75541"
      },
      "execution_count": 133,
      "outputs": [
        {
          "output_type": "execute_result",
          "data": {
            "text/plain": [
              "array([[ True],\n",
              "       [False],\n",
              "       [False],\n",
              "       [ True],\n",
              "       [ True],\n",
              "       [ True],\n",
              "       [ True],\n",
              "       [False],\n",
              "       [ True],\n",
              "       [ True]])"
            ]
          },
          "metadata": {},
          "execution_count": 133
        }
      ]
    },
    {
      "cell_type": "markdown",
      "metadata": {
        "id": "xoMltea5Dir1"
      },
      "source": [
        "## Making the Confusion Matrix"
      ]
    },
    {
      "cell_type": "code",
      "source": [
        "y_pred = predictions.astype(int)"
      ],
      "metadata": {
        "id": "3A1lDGHgAmVg"
      },
      "execution_count": 134,
      "outputs": []
    },
    {
      "cell_type": "code",
      "source": [
        "y_pred[:10]"
      ],
      "metadata": {
        "colab": {
          "base_uri": "https://localhost:8080/"
        },
        "id": "YpPr-E4UCF-m",
        "outputId": "078be9a4-59c2-45a6-cd42-b063db05acc4"
      },
      "execution_count": 135,
      "outputs": [
        {
          "output_type": "execute_result",
          "data": {
            "text/plain": [
              "array([[1],\n",
              "       [0],\n",
              "       [0],\n",
              "       [1],\n",
              "       [1],\n",
              "       [1],\n",
              "       [1],\n",
              "       [0],\n",
              "       [1],\n",
              "       [1]])"
            ]
          },
          "metadata": {},
          "execution_count": 135
        }
      ]
    },
    {
      "cell_type": "code",
      "source": [
        "y_test[0:10]"
      ],
      "metadata": {
        "colab": {
          "base_uri": "https://localhost:8080/"
        },
        "outputId": "897b59cc-0a42-45a4-b5b0-2202beda0f73",
        "id": "pGVr_KB-Scbp"
      },
      "execution_count": 136,
      "outputs": [
        {
          "output_type": "execute_result",
          "data": {
            "text/plain": [
              "array([[0],\n",
              "       [1],\n",
              "       [0],\n",
              "       [1],\n",
              "       [1],\n",
              "       [0],\n",
              "       [1],\n",
              "       [0],\n",
              "       [1],\n",
              "       [1]])"
            ]
          },
          "metadata": {},
          "execution_count": 136
        }
      ]
    },
    {
      "cell_type": "code",
      "metadata": {
        "id": "Xj9IU6MxDnvo",
        "outputId": "37b088c4-66ab-4eb2-fe63-b72398803cfb",
        "colab": {
          "base_uri": "https://localhost:8080/"
        }
      },
      "source": [
        "from sklearn.metrics import confusion_matrix, accuracy_score\n",
        "cm = confusion_matrix(y_test, y_pred)\n",
        "print(cm)\n",
        "accuracy_score(y_test, y_pred)"
      ],
      "execution_count": 137,
      "outputs": [
        {
          "output_type": "stream",
          "name": "stdout",
          "text": [
            "[[105  47]\n",
            " [  8  40]]\n"
          ]
        },
        {
          "output_type": "execute_result",
          "data": {
            "text/plain": [
              "0.725"
            ]
          },
          "metadata": {},
          "execution_count": 137
        }
      ]
    },
    {
      "cell_type": "markdown",
      "source": [
        "Obviously, the accuracy score is still low. However, this repo is just an demo. It needs to be improved. \n",
        "For example, the \"K-fold Cross Validation\" wasn't applied here, which would cause the model to be subject to overfitting the training set."
      ],
      "metadata": {
        "id": "MgFCvrYeViDV"
      }
    }
  ]
}